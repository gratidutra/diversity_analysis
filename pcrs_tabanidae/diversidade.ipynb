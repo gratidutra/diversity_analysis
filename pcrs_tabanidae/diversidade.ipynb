{
 "cells": [
  {
   "cell_type": "code",
   "execution_count": 3,
   "metadata": {
    "colab": {
     "base_uri": "https://localhost:8080/"
    },
    "id": "3RLqjLEPLKpM",
    "outputId": "2ef66710-23d4-43e8-ff64-8086f86f127a"
   },
   "outputs": [
    {
     "name": "stderr",
     "output_type": "stream",
     "text": [
      "also installing the dependencies ‘haven’, ‘readr’\n",
      "\n",
      "\n",
      "Warning message in install.packages(\"tidyverse\"):\n",
      "“installation of package ‘readr’ had non-zero exit status”\n",
      "Warning message in install.packages(\"tidyverse\"):\n",
      "“installation of package ‘haven’ had non-zero exit status”\n",
      "Warning message in install.packages(\"tidyverse\"):\n",
      "“installation of package ‘tidyverse’ had non-zero exit status”\n",
      "Updating HTML index of packages in '.Library'\n",
      "\n",
      "Making 'packages.html' ...\n",
      " done\n",
      "\n",
      "Updating HTML index of packages in '.Library'\n",
      "\n",
      "Making 'packages.html' ...\n",
      " done\n",
      "\n",
      "Updating HTML index of packages in '.Library'\n",
      "\n",
      "Making 'packages.html' ...\n",
      " done\n",
      "\n",
      "Updating HTML index of packages in '.Library'\n",
      "\n",
      "Making 'packages.html' ...\n",
      " done\n",
      "\n",
      "Updating HTML index of packages in '.Library'\n",
      "\n",
      "Making 'packages.html' ...\n",
      " done\n",
      "\n",
      "Warning message in install.packages(\"networkD3\"):\n",
      "“installation of package ‘networkD3’ had non-zero exit status”\n",
      "Updating HTML index of packages in '.Library'\n",
      "\n",
      "Making 'packages.html' ...\n",
      " done\n",
      "\n",
      "Updating HTML index of packages in '.Library'\n",
      "\n",
      "Making 'packages.html' ...\n",
      " done\n",
      "\n",
      "Updating HTML index of packages in '.Library'\n",
      "\n",
      "Making 'packages.html' ...\n",
      " done\n",
      "\n",
      "Updating HTML index of packages in '.Library'\n",
      "\n",
      "Making 'packages.html' ...\n",
      " done\n",
      "\n",
      "Updating HTML index of packages in '.Library'\n",
      "\n",
      "Making 'packages.html' ...\n",
      " done\n",
      "\n"
     ]
    }
   ],
   "source": [
    "install.packages('tidyverse')\n",
    "install.packages('magrittr')\n",
    "install.packages('lubridate')\n",
    "install.packages('iNEXT')\n",
    "install.packages('vegan')\n",
    "install.packages('networkD3')\n",
    "install.packages('permute')\n",
    "install.packages('dplyr')\n",
    "install.packages('tidyr')\n",
    "install.packages(\"rlang\")"
   ]
  },
  {
   "cell_type": "code",
   "execution_count": 4,
   "metadata": {},
   "outputs": [
    {
     "ename": "ERROR",
     "evalue": "Error in library(\"tidyverse\"): there is no package called ‘tidyverse’\n",
     "output_type": "error",
     "traceback": [
      "Error in library(\"tidyverse\"): there is no package called ‘tidyverse’\nTraceback:\n",
      "1. library(\"tidyverse\")"
     ]
    }
   ],
   "source": [
    "library('tidyverse')\n",
    "library('magrittr')\n",
    "library('lubridate')\n",
    "library('iNEXT')\n",
    "library('vegan')\n",
    "library('networkD3')\n",
    "library('permute')\n",
    "library('tidyr')\n",
    "library('dplyr')"
   ]
  },
  {
   "cell_type": "code",
   "execution_count": 5,
   "metadata": {},
   "outputs": [
    {
     "data": {
      "text/plain": [
       "R version 4.1.0 (2021-05-18)\n",
       "Platform: x86_64-conda-linux-gnu (64-bit)\n",
       "Running under: Ubuntu 21.10\n",
       "\n",
       "Matrix products: default\n",
       "BLAS/LAPACK: /home/grati/miniconda3/lib/libopenblasp-r0.3.17.so\n",
       "\n",
       "locale:\n",
       " [1] LC_CTYPE=pt_BR.UTF-8       LC_NUMERIC=C              \n",
       " [3] LC_TIME=pt_BR.UTF-8        LC_COLLATE=en_US.UTF-8    \n",
       " [5] LC_MONETARY=pt_BR.UTF-8    LC_MESSAGES=en_US.UTF-8   \n",
       " [7] LC_PAPER=pt_BR.UTF-8       LC_NAME=C                 \n",
       " [9] LC_ADDRESS=C               LC_TELEPHONE=C            \n",
       "[11] LC_MEASUREMENT=pt_BR.UTF-8 LC_IDENTIFICATION=C       \n",
       "\n",
       "attached base packages:\n",
       "[1] stats     graphics  grDevices utils     datasets  methods   base     \n",
       "\n",
       "loaded via a namespace (and not attached):\n",
       " [1] fansi_0.4.2       digest_0.6.27     utf8_1.2.2        crayon_1.4.2     \n",
       " [5] IRdisplay_1.0     repr_1.1.3        lifecycle_1.0.1   jsonlite_1.7.2   \n",
       " [9] evaluate_0.14     pillar_1.6.4      rlang_0.4.12      uuid_0.1-4       \n",
       "[13] vctrs_0.3.8       ellipsis_0.3.2    IRkernel_1.2      tools_4.1.0      \n",
       "[17] compiler_4.1.0    base64enc_0.1-3   pbdZMQ_0.3-5      htmltools_0.5.1.1"
      ]
     },
     "metadata": {},
     "output_type": "display_data"
    }
   ],
   "source": [
    "sessionInfo()"
   ]
  },
  {
   "cell_type": "code",
   "execution_count": 6,
   "metadata": {
    "colab": {
     "base_uri": "https://localhost:8080/"
    },
    "id": "5Th0wauvLJJK",
    "outputId": "e5d84e82-57a3-4009-a699-236e50f39b31"
   },
   "outputs": [
    {
     "ename": "ERROR",
     "evalue": "Error in read_csv(\"../data/data_pcrs.csv\"): could not find function \"read_csv\"\n",
     "output_type": "error",
     "traceback": [
      "Error in read_csv(\"../data/data_pcrs.csv\"): could not find function \"read_csv\"\nTraceback:\n"
     ]
    }
   ],
   "source": [
    "# lendo o arquivo de entrada\n",
    "\n",
    "df <- read_csv(\"../data/data_pcrs.csv\")\n",
    "\n",
    "df <- df %>% pivot_longer(names_to = \"Localidade\", values_to = \"Abundância\")\n",
    "\n",
    "distinct(df, Localidade)"
   ]
  },
  {
   "cell_type": "code",
   "execution_count": null,
   "metadata": {
    "colab": {
     "base_uri": "https://localhost:8080/",
     "height": 471
    },
    "id": "T3WmF9KgMu_g",
    "outputId": "dfe0028a-7166-4fe8-97c5-92db062d5c53"
   },
   "outputs": [],
   "source": [
    "# Sankey\n",
    "\n",
    "nodes <- data.frame(name = c(as.character(df$Espécie), as.character(df$Localidade)) %>% unique())\n",
    "\n",
    "\n",
    "df$IDsource <- match(df$Espécie, nodes$name) - 1\n",
    "df$IDtarget <- match(df$Localidade, nodes$name) - 1\n",
    "\n",
    "ColourScal <- 'd3.scaleOrdinal() .range([\"#FDE725FF\",\"#B4DE2CFF\",\"#6DCD59FF\",\"#35B779FF\",\n",
    "\"#1F9E89FF\",\"#26828EFF\",\"#31688EFF\",\"#3E4A89FF\",\"#482878FF\",\"#440154FF\"])'\n",
    "\n",
    "sankeyNetwork(\n",
    "  Links = df, Nodes = nodes,\n",
    "  Source = \"IDsource\", Target = \"IDtarget\",\n",
    "  Value = \"Abundância\", NodeID = \"name\",\n",
    "  sinksRight = FALSE, colourScale = ColourScal, nodeWidth = 40, fontSize = 13, nodePadding = 20\n",
    ")"
   ]
  },
  {
   "cell_type": "code",
   "execution_count": null,
   "metadata": {
    "colab": {
     "base_uri": "https://localhost:8080/",
     "height": 252
    },
    "id": "X0M7gnrFMpua",
    "outputId": "c4e25ec2-c89c-44c4-b7d2-981011179789"
   },
   "outputs": [],
   "source": [
    "# top 5 specie\n",
    "\n",
    "top_specie <- df %>% arrange(-Abundância) %>% slice(1:5) "
   ]
  },
  {
   "cell_type": "code",
   "execution_count": null,
   "metadata": {
    "colab": {
     "base_uri": "https://localhost:8080/",
     "height": 505
    },
    "id": "llSD41dhMsmy",
    "outputId": "73d0d4d9-373c-43fe-a742-902927479aa5"
   },
   "outputs": [],
   "source": [
    "# NMDS\n",
    "\n",
    "rich <- df  %>%  group_by(Localidade) %>% \n",
    "  filter(Abundância > 0) %>%\n",
    "  summarise(rich = n_distinct(Espécie))\n",
    "\n",
    "data_nmds <- df %>%\n",
    "  group_by(Espécie, Localidade) %>%\n",
    "  pivot_wider(names_from = Espécie, values_from = Abundância) %>%\n",
    "  mutate(\n",
    "    across(everything(), ~ replace_na(.x, 0))\n",
    "  ) %>% left_join(rich, by = \"Localidade\")\n",
    "\n",
    "\n",
    "run_nmds <- data_nmds\n",
    "\n",
    "run_nmds$Localidade <- NULL\n",
    "run_nmds$rich <- NULL\n",
    "\n",
    "dist_bray <- vegdist(run_nmds, method = \"bray\", binary = TRUE)\n",
    "\n",
    "dist_bray\n",
    "\n",
    "nmds <- metaMDS(dist_bray)\n",
    "\n",
    "scores(nmds)  %>%\n",
    "  as_tibble() %>%\n",
    "  cbind(data_nmds) %>%\n",
    "  as_tibble()%>%\n",
    "  ggplot(aes(x = NMDS1, y = NMDS2)) +\n",
    "  geom_point(aes(size = rich)) +\n",
    "  stat_ellipse(geom = \"polygon\", aes(group = rich), alpha = 0.3) +\n",
    "  annotate(\"text\", x = -2, y = 0.95, label = paste0(\"stress: \", format(nmds$stress, digits = 4)), hjust = 0) +\n",
    "  theme_bw()\n"
   ]
  },
  {
   "cell_type": "code",
   "execution_count": null,
   "metadata": {},
   "outputs": [],
   "source": [
    "# Permanova\n",
    "\n",
    "adonis(dist_bray~data_nmds$Localidade, permutations = 1000)"
   ]
  },
  {
   "cell_type": "code",
   "execution_count": null,
   "metadata": {
    "colab": {
     "base_uri": "https://localhost:8080/",
     "height": 505
    },
    "id": "1xSCfRRnNIrb",
    "outputId": "d736a5e8-6e04-457a-ad3a-f71b26486788"
   },
   "outputs": [],
   "source": [
    "# Rich x Abund\n",
    "\n",
    "rich_abund <- data_nmds %>% \n",
    "  pivot_longer(!c(Localidade, rich), names_to = \"Espécie\", values_to = \"abund\") %>% \n",
    "  filter(Espécie %in% top_specie$Espécie)\n",
    "\n",
    "ggplot(rich_abund, aes(x = rich, y = abund)) +\n",
    "  geom_point() +\n",
    "  geom_smooth(method = \"lm\", alpha = .15) +\n",
    "  facet_wrap(~Espécie)\n"
   ]
  },
  {
   "cell_type": "code",
   "execution_count": null,
   "metadata": {
    "colab": {
     "base_uri": "https://localhost:8080/",
     "height": 505
    },
    "id": "KYTBtsqdNKk3",
    "outputId": "b448cc4e-544c-4e6a-a3fb-58050f80f09e"
   },
   "outputs": [],
   "source": [
    "# Diversidade\n",
    "\n",
    "abund <- df %>%\n",
    "  pivot_wider(names_from = Localidade, values_from = Abundância)  %>%\n",
    "    column_to_rownames(var = \"Espécie\")\n",
    "\n",
    "resultados_tabanidae <- iNEXT(abund,\n",
    "                              q = c(0, 1, 2),\n",
    "                              datatype = \"abundance\",\n",
    "                              endpoint = 400\n",
    ")"
   ]
  },
  {
   "cell_type": "code",
   "execution_count": null,
   "metadata": {
    "colab": {
     "base_uri": "https://localhost:8080/",
     "height": 1000
    },
    "id": "K3PrBIwxNMxh",
    "outputId": "63f97a16-61ec-419a-fbb5-e151607d930f"
   },
   "outputs": [],
   "source": [
    "# Resultado 0 = Species richness; 1 = Shannon diversity; 2 = Simpson diversity\n",
    "\n",
    "resultados_tabanidae$AsyEst\n",
    "\n",
    "ggiNEXT(resultados_tabanidae, type = 1, facet.var = 'site') + theme_light() + \n",
    "  facet_wrap(~site, ncol=3, scales = 'free') \n"
   ]
  }
 ],
 "metadata": {
  "colab": {
   "collapsed_sections": [],
   "name": "diversidade.ipynb",
   "provenance": []
  },
  "kernelspec": {
   "display_name": "R",
   "language": "R",
   "name": "ir"
  },
  "language_info": {
   "codemirror_mode": "r",
   "file_extension": ".r",
   "mimetype": "text/x-r-source",
   "name": "R",
   "pygments_lexer": "r",
   "version": "4.1.0"
  }
 },
 "nbformat": 4,
 "nbformat_minor": 4
}
